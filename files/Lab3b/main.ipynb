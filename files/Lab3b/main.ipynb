{
 "cells": [
  {
   "cell_type": "code",
   "execution_count": null,
   "metadata": {
    "deletable": false,
    "editable": false,
    "tags": []
   },
   "outputs": [],
   "source": [
    "# Initialization cell\n",
    "try:  # for CS1302 JupyterLite pyodide kernel\n",
    "    import piplite\n",
    "\n",
    "    with open(\"requirements.txt\") as f:\n",
    "        for package in f:\n",
    "            package = package.strip()\n",
    "            print(\"Installing\", package)\n",
    "            await piplite.install(package)\n",
    "except ModuleNotFoundError:\n",
    "    pass\n",
    "\n",
    "import jupytext\n",
    "import otter\n",
    "\n",
    "grader = otter.Notebook(\"main.ipynb\")"
   ]
  },
  {
   "cell_type": "markdown",
   "metadata": {
    "slideshow": {
     "slide_type": "slide"
    }
   },
   "source": [
    "# Lab 3b"
   ]
  },
  {
   "cell_type": "markdown",
   "metadata": {
    "slideshow": {
     "slide_type": "-"
    },
    "tags": [
     "remove-cell"
    ]
   },
   "source": [
    "**CS1302 Introduction to Computer Programming**\n",
    "___"
   ]
  },
  {
   "cell_type": "code",
   "execution_count": null,
   "metadata": {},
   "outputs": [],
   "source": [
    "from math import floor, log2\n",
    "from inspect import getsource\n",
    "import numpy as np\n",
    "from ipywidgets import interact\n",
    "%reload_ext divewidgets"
   ]
  },
  {
   "cell_type": "markdown",
   "metadata": {
    "ExecuteTime": {
     "end_time": "2020-09-13T01:19:41.712043Z",
     "start_time": "2020-09-13T01:19:41.704733Z"
    },
    "slideshow": {
     "slide_type": "subslide"
    }
   },
   "source": [
    "In this notebook, we will use iterations to convert numbers with arbitrary size."
   ]
  },
  {
   "cell_type": "markdown",
   "metadata": {
    "slideshow": {
     "slide_type": "slide"
    }
   },
   "source": [
    "## Conversion to Decimal"
   ]
  },
  {
   "cell_type": "markdown",
   "metadata": {
    "slideshow": {
     "slide_type": "subslide"
    }
   },
   "source": [
    "### Binary-to-Decimal"
   ]
  },
  {
   "cell_type": "markdown",
   "metadata": {
    "slideshow": {
     "slide_type": "fragment"
    }
   },
   "source": [
    "In a previous lab, we considered converting a byte string to decimal. What about converting a binary string of arbitrary length to decimal?"
   ]
  },
  {
   "cell_type": "markdown",
   "metadata": {},
   "source": [
    "The simplest way is to use `int`:"
   ]
  },
  {
   "cell_type": "code",
   "execution_count": null,
   "metadata": {},
   "outputs": [],
   "source": [
    "int(\"0\" * 4 + \"1\" * 4, base=2)"
   ]
  },
  {
   "cell_type": "markdown",
   "metadata": {},
   "source": [
    "**But how is `int` implemented?**"
   ]
  },
  {
   "cell_type": "markdown",
   "metadata": {
    "slideshow": {
     "slide_type": "subslide"
    }
   },
   "source": [
    "---\n",
    "\n",
    "**Definition** (Binary numbers)\n",
    "\n",
    "Given a binary string of an arbitrarily length $k$,\n",
    "\n",
    "$$ \n",
    "b_{k-1}\\circ \\dots \\circ b_1\\circ b_0,\n",
    "$$\n",
    "the decimal number is given by the formula\n",
    "\n",
    "$$\n",
    "2^0 \\cdot b_0 + 2^1 \\cdot b_1 + \\dots + 2^{k-1} \\cdot b_{k-1}.\n",
    "$$ (b2d:1)\n",
    "\n",
    "---"
   ]
  },
  {
   "cell_type": "markdown",
   "metadata": {
    "slideshow": {
     "slide_type": "fragment"
    }
   },
   "source": [
    "In mathematics, we use the [summation](https://en.wikipedia.org/wiki/Summation) notation to write the above formula {eq}`b2d:1` concisely as\n",
    "\n",
    "$$ \n",
    "\\sum_{i=0}^{k-1} 2^i \\cdot b_i,\n",
    "$$ (b2d:2)\n",
    "\n",
    "i.e., the sum of $2^i \\cdot b_i$ for $i$ taking an integer value from $0$ to $k-1$."
   ]
  },
  {
   "cell_type": "markdown",
   "metadata": {
    "slideshow": {
     "slide_type": "subslide"
    }
   },
   "source": [
    "This can be implemented using a `for` loop:"
   ]
  },
  {
   "cell_type": "code",
   "execution_count": null,
   "metadata": {},
   "outputs": [],
   "source": [
    "def binary_to_decimal_v1(binary_str):\n",
    "    k = len(binary_str)\n",
    "    decimal = 0  # initialization\n",
    "    for i in range(k):  # iteration\n",
    "        decimal += 2**i * (1 if binary_str[(k - 1) - i] == \"1\" else 0)\n",
    "    return decimal\n",
    "\n",
    "\n",
    "binary_to_decimal_v1(\"0\" * 4 + \"1\" * 4)"
   ]
  },
  {
   "cell_type": "markdown",
   "metadata": {},
   "source": [
    "````{attention}\n",
    "In the above implementation, \n",
    "\n",
    "```python\n",
    "1 if binary_str[(k - 1) - i] == \"1\" else 0\n",
    "```\n",
    "\n",
    "is to avoid using `int` as in `int(binary_str[(k - 1) - i])`.\n",
    "````"
   ]
  },
  {
   "cell_type": "markdown",
   "metadata": {
    "slideshow": {
     "slide_type": "fragment"
    }
   },
   "source": [
    "Note that $b_i$ is given by `binary_str[(k-1)-i]` for different index `i` as shown below:\n",
    "\n",
    "$$\n",
    "\\begin{array}{c|c:c:c:c|}\n",
    "\\texttt{binary\\_str} & b_{k-1} & b_{k-2} & \\dots & b_0\\\\ \\text{indexing} & [0] & [1] & \\dots & [k-1] \n",
    "\\end{array}\n",
    "$$"
   ]
  },
  {
   "cell_type": "markdown",
   "metadata": {
    "slideshow": {
     "slide_type": "subslide"
    }
   },
   "source": [
    "The following is another way to write the `for` loop."
   ]
  },
  {
   "cell_type": "code",
   "execution_count": null,
   "metadata": {},
   "outputs": [],
   "source": [
    "def binary_to_decimal_v2(binary_str):\n",
    "    decimal = 0  # initialization\n",
    "    for bit in binary_str:\n",
    "        decimal = decimal * 2 + (1 if bit == \"1\" else 0)  # iteration\n",
    "    return decimal\n",
    "\n",
    "\n",
    "binary_to_decimal_v2(\"0\" * 4 + \"1\" * 4)"
   ]
  },
  {
   "cell_type": "markdown",
   "metadata": {
    "slideshow": {
     "slide_type": "fragment"
    }
   },
   "source": [
    "The algorithm implements the same formula factorized as follows:\n",
    "\n",
    "$$\n",
    "\\begin{aligned} \\sum_{i=0}^{k-1} 2^i \\cdot b_{i} \n",
    "&=  \\left(\\sum_{i=1}^{k-1} 2^i \\cdot b_{i}\\right) + b_0\\\\\n",
    "&=  \\left(\\sum_{i=1}^{k-1} 2^{i-1} \\cdot b_{i}\\right)\\times 2 + b_0 \\\\\n",
    "&=  \\left(\\sum_{j=0}^{k-2} 2^{j} \\cdot b_{j+1}\\right)\\times 2 + b_0 && \\text{with $j=i-1$} \\\\\n",
    "&= \\underbrace{(\\dots (\\underbrace{(\\underbrace{\\overbrace{0}^{\\text{initialization}\\kern-2em}\\times 2 + b_{k-1}}_{\\text{first iteration} }) \\times 2 + b_{k-2}}_{\\text{second iteration} }) \\dots )\\times 2 + b_0}_{\\text{last iteration} }.\\end{aligned}\n",
    "$$ (b2d:3)"
   ]
  },
  {
   "cell_type": "markdown",
   "metadata": {},
   "source": [
    "**Exercise** (efficiency)\n",
    "\n",
    "Explain whether `binary_to_decimal_v1` or `binary_to_decimal_v2` runs faster?"
   ]
  },
  {
   "cell_type": "markdown",
   "metadata": {},
   "source": [
    "_Type your answer here, replacing this text._"
   ]
  },
  {
   "cell_type": "markdown",
   "metadata": {
    "slideshow": {
     "slide_type": "subslide"
    }
   },
   "source": [
    "**Exercise** (binary-to-decimal) \n",
    "\n",
    "Write your own converter `binary_to_decimal` below using a `while` loop instead of a `for` loop. \n",
    "\n",
    "```{important}\n",
    "\n",
    "Your code should contain `while` but NOT `for` nor `int`.\n",
    "```"
   ]
  },
  {
   "cell_type": "code",
   "execution_count": null,
   "metadata": {
    "ExecuteTime": {
     "end_time": "2021-03-20T14:27:04.687310Z",
     "start_time": "2021-03-20T14:27:04.65648Z"
    },
    "nbgrader": {
     "grade": false,
     "grade_id": "binary_to_decimal",
     "locked": false,
     "schema_version": 3,
     "solution": true,
     "task": false
    },
    "slideshow": {
     "slide_type": "-"
    },
    "tags": [
     "remove-output"
    ]
   },
   "outputs": [],
   "source": [
    "def binary_to_decimal(binary_str):\n",
    "    k = len(binary_str)\n",
    "    decimal = 0\n",
    "    ...\n",
    "    return decimal"
   ]
  },
  {
   "cell_type": "code",
   "execution_count": null,
   "metadata": {
    "deletable": false,
    "editable": false,
    "tags": []
   },
   "outputs": [],
   "source": [
    "# test validity\n",
    "assert getsource(binary_to_decimal).find(\"for\") < 0  # no for\n",
    "assert getsource(binary_to_decimal).find(\"int\") < 0  # no int\n",
    "assert getsource(binary_to_decimal).find(\"while\") > 0  # use while"
   ]
  },
  {
   "cell_type": "code",
   "execution_count": null,
   "metadata": {
    "deletable": false,
    "editable": false
   },
   "outputs": [],
   "source": [
    "grader.check(\"binary-to-decimal\")"
   ]
  },
  {
   "cell_type": "code",
   "execution_count": null,
   "metadata": {
    "ExecuteTime": {
     "end_time": "2021-03-20T14:27:05.105584Z",
     "start_time": "2021-03-20T14:27:05.55075Z"
    },
    "code_folding": [
     0
    ],
    "slideshow": {
     "slide_type": "-"
    },
    "tags": [
     "remove-output"
    ]
   },
   "outputs": [],
   "source": [
    "# binary-to-decimal converter\n",
    "from ipywidgets import interact\n",
    "\n",
    "bits = [\"0\", \"1\"]\n",
    "\n",
    "\n",
    "@interact(binary_str=\"1011\")\n",
    "def convert_byte_to_decimal(binary_str):\n",
    "    for bit in binary_str:\n",
    "        if bit not in bits:\n",
    "            print(\"Not a binary string.\")\n",
    "            break\n",
    "    else:\n",
    "        print(\"decimal:\", binary_to_decimal(binary_str))"
   ]
  },
  {
   "cell_type": "markdown",
   "metadata": {
    "slideshow": {
     "slide_type": "slide"
    }
   },
   "source": [
    "### Undecimal-to-Decimal"
   ]
  },
  {
   "cell_type": "markdown",
   "metadata": {
    "slideshow": {
     "slide_type": "fragment"
    }
   },
   "source": [
    "A base-11 number system is called an [undecimal system](https://en.wikipedia.org/wiki/Undecimal). The digits range from 0 to 10 with 10 denoted as X:\n",
    "\n",
    "$$\n",
    "0, 1, 2, 3, 4, 5, 6, 7, 8, 9, X.\n",
    "$$\n",
    "\n",
    "The [International Standard Book Number (ISBN)](https://en.wikipedia.org/wiki/International_Standard_Book_Number) uses an undecimal digit."
   ]
  },
  {
   "cell_type": "markdown",
   "metadata": {
    "slideshow": {
     "slide_type": "subslide"
    }
   },
   "source": [
    "**Exercise** (undecimal-to-decimal)\n",
    "\n",
    "In the following code, assign to `decimal` the integer represented by an undecimal string of arbitrary length.\n",
    "\n",
    "```{important}\n",
    "\n",
    "Your code should NOT contain `int`. You may assume `undecimal_str` is valid undecimal string consisting of characters from \"0123456789X\".\n",
    "```"
   ]
  },
  {
   "cell_type": "code",
   "execution_count": null,
   "metadata": {
    "ExecuteTime": {
     "end_time": "2021-03-20T14:27:07.777733Z",
     "start_time": "2021-03-20T14:27:07.776372Z"
    },
    "nbgrader": {
     "grade": false,
     "grade_id": "undecimal_to_decimal",
     "locked": false,
     "schema_version": 3,
     "solution": true,
     "task": false
    },
    "slideshow": {
     "slide_type": "subslide"
    },
    "tags": [
     "remove-output"
    ]
   },
   "outputs": [],
   "source": [
    "def undecimal_to_decimal(undecimal_str):\n",
    "    ...\n",
    "    return decimal"
   ]
  },
  {
   "cell_type": "code",
   "execution_count": null,
   "metadata": {
    "deletable": false,
    "editable": false,
    "tags": []
   },
   "outputs": [],
   "source": [
    "# test validity\n",
    "assert getsource(undecimal_to_decimal).find(\"int\") < 0  # no int"
   ]
  },
  {
   "cell_type": "code",
   "execution_count": null,
   "metadata": {
    "deletable": false,
    "editable": false
   },
   "outputs": [],
   "source": [
    "grader.check(\"undecimal-to-decimal\")"
   ]
  },
  {
   "cell_type": "code",
   "execution_count": null,
   "metadata": {
    "ExecuteTime": {
     "end_time": "2021-03-20T14:27:10.312470Z",
     "start_time": "2021-03-20T14:27:10.17607Z"
    },
    "code_folding": [
     0
    ],
    "slideshow": {
     "slide_type": "-"
    },
    "tags": [
     "remove-output"
    ]
   },
   "outputs": [],
   "source": [
    "# undecimal-to-decimal calculator\n",
    "undecimal_digits = [str(i) for i in range(10)] + [\"X\"]\n",
    "\n",
    "@interact(undecimal_str=\"X\")\n",
    "def convert_undecimal_to_decimal(undecimal_str):\n",
    "    for digit in undecimal_str:\n",
    "        if digit not in undecimal_digits:\n",
    "            print(\"Not an undecimal string.\")\n",
    "            break\n",
    "    else:\n",
    "        print(\"decimal:\", undecimal_to_decimal(undecimal_str))"
   ]
  },
  {
   "cell_type": "markdown",
   "metadata": {
    "slideshow": {
     "slide_type": "slide"
    }
   },
   "source": [
    "## Conversion from Decimal"
   ]
  },
  {
   "cell_type": "markdown",
   "metadata": {
    "ExecuteTime": {
     "end_time": "2020-09-12T12:03:49.420749Z",
     "start_time": "2020-09-12T12:03:49.413815Z"
    },
    "slideshow": {
     "slide_type": "fragment"
    }
   },
   "source": [
    "Consider the reverse process that converts a non-negative decimal number of arbitrary size to a string representation in another number system."
   ]
  },
  {
   "cell_type": "markdown",
   "metadata": {
    "slideshow": {
     "slide_type": "subslide"
    }
   },
   "source": [
    "### Decimal-to-Binary"
   ]
  },
  {
   "cell_type": "markdown",
   "metadata": {
    "slideshow": {
     "slide_type": "subslide"
    }
   },
   "source": [
    "The following code converts a decimal number to a binary string."
   ]
  },
  {
   "cell_type": "markdown",
   "metadata": {
    "slideshow": {
     "slide_type": "-"
    }
   },
   "source": [
    "```Python\n",
    "def decimal_to_binary(decimal):\n",
    "    binary_str = str(decimal % 2)\n",
    "    while decimal // 2:\n",
    "        decimal //= 2\n",
    "        binary_str = str(decimal % 2) + binary_str\n",
    "    return binary_str\n",
    "```"
   ]
  },
  {
   "cell_type": "markdown",
   "metadata": {
    "slideshow": {
     "slide_type": "fragment"
    }
   },
   "source": [
    "To understand the while loop, consider the same formula {eq}`b2d:3`, where the braces indicate the value of `decimal` at different times:\n",
    "\n",
    "$$\n",
    "\\begin{aligned} \\sum_{i=0}^{k-1} 2^i \\cdot b_{i} &=  \\left(\\sum_{i=0}^{k-2} 2^{i-2} \\cdot b_{i-1}\\right)\\times 2 + b_0 \\\\\n",
    "&= \\underbrace{(\\underbrace{ \\dots (\\underbrace{(0\\times 2 + b_{k-1}) \\times 2 + b_{k-2}}_{\\text{right before the last iteration} }  )\\times 2 \\dots + b_1}_{\\text{right before the second iteration} })\\times 2 + b_0}_{\\text{right before the first iteration} }.\\end{aligned}\n",
    "$$ "
   ]
  },
  {
   "cell_type": "markdown",
   "metadata": {
    "slideshow": {
     "slide_type": "fragment"
    }
   },
   "source": [
    "- $b_0$ is the remainder `decimal % 2` right before the first iteration,\n",
    "- $b_1$ is the remainder `decimal // 2 % 2` right before the second iteration, and\n",
    "- $b_{k-1}$ is the remainder `decimal // 2 % 2` right before the last iteration."
   ]
  },
  {
   "cell_type": "markdown",
   "metadata": {
    "slideshow": {
     "slide_type": "fragment"
    }
   },
   "source": [
    "We can also write a for loop instead of a while loop:"
   ]
  },
  {
   "cell_type": "code",
   "execution_count": null,
   "metadata": {
    "ExecuteTime": {
     "end_time": "2021-03-20T14:27:12.386377Z",
     "start_time": "2021-03-20T14:27:12.382945Z"
    },
    "slideshow": {
     "slide_type": "-"
    }
   },
   "outputs": [],
   "source": [
    "def decimal_to_binary(decimal):\n",
    "    binary_str = \"\"\n",
    "    num_bits = 1 + (decimal and floor(log2(decimal)))\n",
    "    for i in range(num_bits):\n",
    "        binary_str = str(decimal % 2) + binary_str\n",
    "        decimal //= 2\n",
    "    return binary_str"
   ]
  },
  {
   "cell_type": "code",
   "execution_count": null,
   "metadata": {
    "ExecuteTime": {
     "end_time": "2021-03-20T14:27:12.923762Z",
     "start_time": "2021-03-20T14:27:12.905789Z"
    },
    "code_folding": [
     0
    ],
    "slideshow": {
     "slide_type": "-"
    },
    "tags": [
     "remove-output"
    ]
   },
   "outputs": [],
   "source": [
    "# decimal-to-binary calculator\n",
    "@interact(decimal=\"11\")\n",
    "def convert_decimal_to_binary(decimal):\n",
    "    if not decimal.isdigit():\n",
    "        print(\"Not a non-negative integer.\")\n",
    "    else:\n",
    "        print(\"binary:\", decimal_to_binary(int(decimal)))"
   ]
  },
  {
   "cell_type": "markdown",
   "metadata": {
    "slideshow": {
     "slide_type": "subslide"
    }
   },
   "source": [
    "**Exercise** (logical-and)\n",
    "\n",
    "Explain what the expression `1 + (decimal and floor(log2(decimal)))` calculates. In particular, explain the purpose of the logical `and` operation in the expression?\n",
    "\n",
    "```{hint}\n",
    "`floor(log2(decimal))` computes $\\lfloor \\log_2 (\\texttt{decimal})\\rfloor$, namely, the smallest integer no larger than the logarithm base 2 of some number `decimal`.\n",
    "- What happen when you run `floor(log2(decimal))` when `decimal` equals `0`?\n",
    "- How about `(decimal and floor(log2(decimal))` when `decimal` equals `0`? Apply the short-circuit evaluation rule.\n",
    "- What does `1 + (decimal and floor(log2(decimal)))` return when `decimal` is between $2^{\\ell} \\leq \\texttt{decimal} < 2^{\\ell + 1}$?\n",
    "```"
   ]
  },
  {
   "cell_type": "markdown",
   "metadata": {},
   "source": [
    "_Type your answer here, replacing this text._"
   ]
  },
  {
   "cell_type": "markdown",
   "metadata": {
    "slideshow": {
     "slide_type": "slide"
    }
   },
   "source": [
    "### Decimal-to-Undecimal"
   ]
  },
  {
   "cell_type": "markdown",
   "metadata": {
    "slideshow": {
     "slide_type": "subslide"
    }
   },
   "source": [
    "**Exercise** (decimal-to-undecimal)\n",
    "\n",
    "Assign to `undecimal_str` the undecimal string that represents a non-negative integer `decimal` of any size."
   ]
  },
  {
   "cell_type": "code",
   "execution_count": null,
   "metadata": {
    "ExecuteTime": {
     "end_time": "2021-03-20T14:27:15.160449Z",
     "start_time": "2021-03-20T14:27:15.157049Z"
    },
    "code_folding": [],
    "nbgrader": {
     "grade": false,
     "grade_id": "decimal_to_undecimal",
     "locked": false,
     "schema_version": 3,
     "solution": true,
     "task": false
    },
    "slideshow": {
     "slide_type": "-"
    },
    "tags": [
     "remove-output"
    ]
   },
   "outputs": [],
   "source": [
    "def decimal_to_undecimal(decimal):\n",
    "    ...\n",
    "    return undecimal_str"
   ]
  },
  {
   "cell_type": "code",
   "execution_count": null,
   "metadata": {
    "deletable": false,
    "editable": false
   },
   "outputs": [],
   "source": [
    "grader.check(\"decimal-to-undecimal\")"
   ]
  },
  {
   "cell_type": "code",
   "execution_count": null,
   "metadata": {
    "ExecuteTime": {
     "end_time": "2021-03-20T14:27:15.851221Z",
     "start_time": "2021-03-20T14:27:15.830466Z"
    },
    "code_folding": [
     0
    ],
    "slideshow": {
     "slide_type": "-"
    },
    "tags": [
     "remove-output"
    ]
   },
   "outputs": [],
   "source": [
    "# undecimal-to-decimal calculator\n",
    "@interact(decimal=\"10\")\n",
    "def convert_decimal_to_undecimal(decimal):\n",
    "    if not decimal.isdigit():\n",
    "        print(\"Not a non-negative integer.\")\n",
    "    else:\n",
    "        print(\"undecimal:\", decimal_to_undecimal(int(decimal)))"
   ]
  },
  {
   "cell_type": "markdown",
   "metadata": {
    "editable": false,
    "tags": [
     "remove-cell"
    ]
   },
   "source": [
    "## Submission\n",
    "\n",
    "Make sure you have run all cells in your notebook in order before running the cell below, so that all images/graphs appear in the output. The cell below will generate a zip file for you to submit. **Please save before exporting!**"
   ]
  },
  {
   "cell_type": "code",
   "execution_count": null,
   "metadata": {
    "deletable": false,
    "editable": true,
    "tags": []
   },
   "outputs": [],
   "source": [
    "# extra files to submit\n",
    "extra_files = []"
   ]
  },
  {
   "cell_type": "code",
   "execution_count": null,
   "metadata": {
    "deletable": false,
    "editable": false,
    "tags": []
   },
   "outputs": [],
   "source": [
    "# Generate the source main.py necessary for grading and similarity check.\n",
    "jupytext.write(jupytext.read(\"main.ipynb\"), \"main.py\", fmt=\"py:percent\")"
   ]
  },
  {
   "cell_type": "code",
   "execution_count": null,
   "metadata": {
    "deletable": false,
    "editable": false,
    "tags": []
   },
   "outputs": [],
   "source": [
    "# Generate the zip file to submit.\n",
    "grader.export(pdf=False, run_tests=False, files=[\"main.py\", *extra_files])"
   ]
  }
 ],
 "metadata": {
  "celltoolbar": "Create Assignment",
  "kernelspec": {
   "display_name": "Python (Pyodide)",
   "language": "python",
   "name": "python"
  },
  "language_info": {
   "codemirror_mode": {
    "name": "ipython",
    "version": 3
   },
   "file_extension": ".py",
   "mimetype": "text/x-python",
   "name": "python",
   "nbconvert_exporter": "python",
   "pygments_lexer": "ipython3",
   "version": "3.10.6"
  },
  "latex_envs": {
   "LaTeX_envs_menu_present": true,
   "autoclose": false,
   "autocomplete": true,
   "bibliofile": "biblio.bib",
   "cite_by": "apalike",
   "current_citInitial": 1,
   "eqLabelWithNumbers": true,
   "eqNumInitial": 1,
   "hotkeys": {
    "equation": "Ctrl-E",
    "itemize": "Ctrl-I"
   },
   "labels_anchors": false,
   "latex_user_defs": false,
   "report_style_numbering": false,
   "user_envs_cfg": false
  },
  "otter": {
   "OK_FORMAT": true,
   "tests": {
    "binary-to-decimal": {
     "name": "binary-to-decimal",
     "points": null,
     "suites": [
      {
       "cases": [
        {
         "code": ">>> # tests\n>>> def test_binary_to_decimal(decimal, binary_str):\n...     decimal_ = binary_to_decimal(binary_str)\n...     correct = isinstance(decimal_, int) and decimal_ == decimal\n...     if not correct:\n...         print(f\"{binary_str} should give {decimal} not {decimal_}.\")\n...     assert correct\n>>> \n>>> \n>>> test_binary_to_decimal(0, \"0\")\n>>> test_binary_to_decimal(255, \"11111111\")\n>>> test_binary_to_decimal(52154, \"1100101110111010\")\n>>> test_binary_to_decimal(3430, \"110101100110\")\n",
         "hidden": false,
         "locked": false
        }
       ],
       "scored": true,
       "setup": "",
       "teardown": "",
       "type": "doctest"
      }
     ]
    },
    "decimal-to-undecimal": {
     "name": "decimal-to-undecimal",
     "points": null,
     "suites": [
      {
       "cases": [
        {
         "code": ">>> # tests\n>>> def test_decimal_to_undecimal(undecimal, decimal):\n...     undecimal_ = decimal_to_undecimal(decimal)\n...     correct = isinstance(undecimal, str) and undecimal == undecimal_\n...     if not correct:\n...         print(\n...             f\"{decimal} should be represented as the undecimal string {undecimal}, not {undecimal_}.\"\n...         )\n...     assert correct\n>>> \n>>> \n>>> test_decimal_to_undecimal(\"X\", 10)\n>>> test_decimal_to_undecimal(\"0\", 0)\n>>> test_decimal_to_undecimal(\"1752572309X478\", 57983478668530)\n",
         "hidden": false,
         "locked": false
        }
       ],
       "scored": true,
       "setup": "",
       "teardown": "",
       "type": "doctest"
      }
     ]
    },
    "undecimal-to-decimal": {
     "name": "undecimal-to-decimal",
     "points": null,
     "suites": [
      {
       "cases": [
        {
         "code": ">>> # tests\n>>> def test_undecimal_to_decimal(decimal, undecimal_str):\n...     decimal_ = undecimal_to_decimal(undecimal_str)\n...     correct = isinstance(decimal_, int) and decimal_ == decimal\n...     if not correct:\n...         print(f\"{undecimal_str} should give {decimal} not {decimal_}.\")\n...     assert correct\n>>> \n>>> \n>>> test_undecimal_to_decimal(27558279079916281, \"6662X0X584839464\")\n>>> test_undecimal_to_decimal(23022771839270, \"73769X2556695\")\n>>> test_undecimal_to_decimal(161804347284488, \"476129248X2067\")\n",
         "hidden": false,
         "locked": false
        }
       ],
       "scored": true,
       "setup": "",
       "teardown": "",
       "type": "doctest"
      }
     ]
    }
   }
  },
  "rise": {
   "enable_chalkboard": true,
   "scroll": true,
   "theme": "white"
  },
  "toc": {
   "base_numbering": 1,
   "nav_menu": {
    "height": "195px",
    "width": "330px"
   },
   "number_sections": true,
   "sideBar": true,
   "skip_h1_title": true,
   "title_cell": "Table of Contents",
   "title_sidebar": "Contents",
   "toc_cell": false,
   "toc_position": {
    "height": "454.418px",
    "left": "1533px",
    "top": "110.284px",
    "width": "435.327px"
   },
   "toc_section_display": true,
   "toc_window_display": false
  },
  "widgets": {
   "application/vnd.jupyter.widget-state+json": {
    "state": {},
    "version_major": 2,
    "version_minor": 0
   }
  }
 },
 "nbformat": 4,
 "nbformat_minor": 4
}
