{
 "cells": [
  {
   "cell_type": "markdown",
   "id": "1123c03b-fb66-4a94-83e3-a214e2677d45",
   "metadata": {},
   "source": [
    "# Introduction to Computer Programming"
   ]
  },
  {
   "cell_type": "markdown",
   "id": "82d5a752-effd-49e3-b424-03eb48996737",
   "metadata": {},
   "source": [
    "### Lab 0"
   ]
  },
  {
   "cell_type": "markdown",
   "id": "44592afe-ec87-4841-8e74-2abaed91e18d",
   "metadata": {},
   "source": [
    "[Setup and Debugger](Lab0/main.ipynb)"
   ]
  },
  {
   "cell_type": "markdown",
   "id": "8cb61d98-2d24-47fd-b797-c639c400c02e",
   "metadata": {},
   "source": [
    "### Lecture 1"
   ]
  },
  {
   "cell_type": "markdown",
   "id": "a5f79741-ab03-4d04-8f43-e0a488e1de6c",
   "metadata": {},
   "source": [
    "[Introduction to Computer Programming](Lecture1/Introduction%20to%20Computer%20Programming.ipynb)"
   ]
  },
  {
   "cell_type": "markdown",
   "id": "d364400a-e8ce-4b71-9e6c-564a532b95be",
   "metadata": {},
   "source": [
    "### Lab 1"
   ]
  },
  {
   "cell_type": "markdown",
   "id": "cc58bd53-7032-4c12-aab5-4af15c02a300",
   "metadata": {},
   "source": [
    "[Card guessing game](Lab1/main.ipynb)"
   ]
  },
  {
   "cell_type": "markdown",
   "id": "48e84d09-fcb1-4611-9786-7ad9e36cb38d",
   "metadata": {},
   "source": [
    "### Lecture 2"
   ]
  },
  {
   "cell_type": "markdown",
   "id": "6e46c668-3199-4e31-a85e-93f8a3c6b210",
   "metadata": {},
   "source": [
    "[Values and Variables](Lecture2/Values%20and%20Variables.ipynb)"
   ]
  },
  {
   "cell_type": "markdown",
   "id": "ed2f691a-52fe-4384-be27-b5ca0b6f12d0",
   "metadata": {},
   "source": [
    "[Expressions and Arithmetic](Lecture2/Expressions%20and%20Arithmetic.ipynb)"
   ]
  },
  {
   "cell_type": "markdown",
   "id": "1fec700e-1ed8-4153-9d38-4f90c137b85c",
   "metadata": {},
   "source": [
    "### Lab 2"
   ]
  },
  {
   "cell_type": "markdown",
   "id": "c2ec18f1-2281-4c56-95bc-5022ceeb7ef4",
   "metadata": {},
   "source": [
    "[Calculators](Lab2/main.ipynb)"
   ]
  },
  {
   "cell_type": "markdown",
   "id": "b4983f11-27e4-44d8-a28b-e8f64528e8f1",
   "metadata": {},
   "source": [
    "### Lecture 3"
   ]
  },
  {
   "cell_type": "markdown",
   "id": "d5ee3ab5-b79a-409d-9f99-681bf0e58064",
   "metadata": {},
   "source": [
    "[Conditional Execution](Lecture3/Conditional%20Execution.ipynb)"
   ]
  },
  {
   "cell_type": "markdown",
   "id": "9db18e29-7e94-437f-8032-8725a7dc1f93",
   "metadata": {},
   "source": [
    "[Iteration](Lecture3/Iteration.ipynb)"
   ]
  },
  {
   "cell_type": "markdown",
   "id": "395b09e7-d484-42ae-8f36-d7793144c0ac",
   "metadata": {},
   "source": [
    "### Lab 3a"
   ]
  },
  {
   "cell_type": "markdown",
   "id": "6dccbb5f-f1e2-4c79-a8a0-4611595ff122",
   "metadata": {},
   "source": [
    "[Improved Quadratic Equation Solver](Laba/main.ipynb)"
   ]
  },
  {
   "cell_type": "markdown",
   "id": "e0523a40-87dc-40d7-bc3e-dd23f2630ff6",
   "metadata": {},
   "source": [
    "### Lab 3b"
   ]
  },
  {
   "cell_type": "markdown",
   "id": "a4b0aa6a-f997-4b2f-8402-ca5ebdf01625",
   "metadata": {},
   "source": [
    "[Big Number Conversion](Labb/main.ipynb)"
   ]
  },
  {
   "cell_type": "markdown",
   "id": "a546aa62-2207-4cbe-9919-0881abc60c1e",
   "metadata": {},
   "source": [
    "### Lecture 4"
   ]
  },
  {
   "cell_type": "markdown",
   "id": "89527457-9355-4727-82d4-0f8484adac9f",
   "metadata": {},
   "source": [
    "[Using Functions](Using%20Functions.ipynb)"
   ]
  },
  {
   "cell_type": "markdown",
   "id": "38eac790-5a34-4cba-a22e-946971019343",
   "metadata": {},
   "source": [
    "[Writing Function](Writing%20Function.ipynb)"
   ]
  },
  {
   "cell_type": "markdown",
   "id": "799190a8-5ae3-41a5-92a4-bc3aa47dd21a",
   "metadata": {},
   "source": [
    "### Lab 4"
   ]
  },
  {
   "cell_type": "markdown",
   "id": "ce96a719-7206-4304-849c-04fcfe4ac576",
   "metadata": {},
   "source": [
    "[Mastermind](Lab4/main.ipynb)"
   ]
  },
  {
   "cell_type": "markdown",
   "id": "efd32d46-ee69-4a7d-860a-e8d03e7ef22c",
   "metadata": {},
   "source": [
    "### Lecture 5"
   ]
  },
  {
   "cell_type": "markdown",
   "id": "dcae1453-c934-4973-9391-f8069c8a4697",
   "metadata": {},
   "source": [
    "[Objects](Objects.ipynb)"
   ]
  },
  {
   "cell_type": "markdown",
   "id": "ec9faa05-d210-4173-9bf1-0a582e0a9ecb",
   "metadata": {},
   "source": [
    "### Lab 5"
   ]
  },
  {
   "cell_type": "markdown",
   "id": "3d61eea3-ee08-4cc6-9992-21de042327f9",
   "metadata": {},
   "source": [
    "[Pandas](Lab5/main.ipynb)"
   ]
  },
  {
   "cell_type": "markdown",
   "id": "e6f8924f-dded-4f3b-8d08-58ea218d9c62",
   "metadata": {},
   "source": [
    "### Lecture 6"
   ]
  },
  {
   "cell_type": "markdown",
   "id": "ba3fdb1a-7ee6-4be0-9126-23b4d9da667c",
   "metadata": {},
   "source": [
    "[Generator](Generator.ipynb)"
   ]
  },
  {
   "cell_type": "markdown",
   "id": "f9cdbf80-8921-4c4a-9294-ce6b78e1930e",
   "metadata": {},
   "source": [
    "[Decorator](Decorator.ipynb)"
   ]
  },
  {
   "cell_type": "markdown",
   "id": "f92a911f-20ef-49ad-a059-3040fbd67654",
   "metadata": {},
   "source": [
    "### Lab 6"
   ]
  },
  {
   "cell_type": "markdown",
   "id": "c5536286-b56b-4f33-9981-bd20e4077669",
   "metadata": {},
   "source": [
    "[Combinatorics](Lab6/main.ipynb)"
   ]
  },
  {
   "cell_type": "markdown",
   "id": "f322a634-d14b-4466-b593-01c929c314d9",
   "metadata": {},
   "source": [
    "### Lecture 7"
   ]
  },
  {
   "cell_type": "markdown",
   "id": "a923a80d-058f-4cb4-af09-9ae58e943b5e",
   "metadata": {},
   "source": [
    "[Sequence Types](Sequence%20Types.ipynb)"
   ]
  },
  {
   "cell_type": "markdown",
   "id": "4dcee813-bfe6-4746-8b42-f04303a0decb",
   "metadata": {},
   "source": [
    "[Operations on Sequences](Operations%20on%20Sequences.ipynb)"
   ]
  },
  {
   "cell_type": "markdown",
   "id": "afd785db-3166-4b00-ba6c-5b4ed6d88e00",
   "metadata": {},
   "source": [
    "### Lab 7"
   ]
  },
  {
   "cell_type": "markdown",
   "id": "dc797492-5e99-4b54-82aa-d1cc231c1477",
   "metadata": {},
   "source": [
    "[Cybersecurity](Lab7/main.ipynb)"
   ]
  },
  {
   "cell_type": "markdown",
   "id": "af20db01-5ee5-40a2-abce-54f33ebf01d4",
   "metadata": {},
   "source": [
    "### Lecture 8"
   ]
  },
  {
   "cell_type": "markdown",
   "id": "dcf5f80c-9902-4eac-a663-9471acfd69c9",
   "metadata": {},
   "source": [
    "[Dictionaries and Sets](Dictionaries%20and%20Sets.ipynb)"
   ]
  },
  {
   "cell_type": "markdown",
   "id": "f70cec39-06c1-40d6-8575-801face1b6f1",
   "metadata": {},
   "source": [
    "### Lab 8"
   ]
  },
  {
   "cell_type": "markdown",
   "id": "682a2532-5f42-4a0d-955a-4cac20455869",
   "metadata": {},
   "source": [
    "[Information Theory](Lab8/main.ipynb)"
   ]
  },
  {
   "cell_type": "markdown",
   "id": "434f9a16-3c68-4f91-b3da-5b8a988ffd41",
   "metadata": {},
   "source": [
    "### Lecture 9"
   ]
  },
  {
   "cell_type": "markdown",
   "id": "534497ec-df01-4757-97ee-db569e5d3f41",
   "metadata": {},
   "source": [
    "[Monte Carlo Simulation and Linear Algebra](Monte%20Carlo%20Simulation%20and%20Linear%20Algebra.ipynb)"
   ]
  },
  {
   "cell_type": "markdown",
   "id": "3633b8a4-f972-4090-9ca8-bc05ef4cac3a",
   "metadata": {},
   "source": [
    "### Lab 9"
   ]
  },
  {
   "cell_type": "markdown",
   "id": "37148e7c-a7b7-4471-8a79-b959e96bd5ff",
   "metadata": {},
   "source": [
    "[Monte Carlo and Root Finding](Lab9/main.ipynb)"
   ]
  },
  {
   "cell_type": "markdown",
   "id": "0f67f97d-f4b7-4e14-8de9-9872bf52e756",
   "metadata": {},
   "source": [
    "### Lecture X"
   ]
  },
  {
   "cell_type": "markdown",
   "id": "152a46e0-ac1d-4df9-b5f9-58255b0d0f1b",
   "metadata": {},
   "source": [
    "[Review](Review.ipynb)\n"
   ]
  }
 ],
 "metadata": {
  "jupytext": {
   "formats": "ipynb,md"
  },
  "kernelspec": {
   "display_name": "Python (XPython)",
   "language": "python",
   "name": "xeus-python"
  },
  "language_info": {
   "codemirror_mode": {
    "name": "ipython",
    "version": 3
   },
   "file_extension": ".py",
   "mimetype": "text/x-python",
   "name": "python",
   "nbconvert_exporter": "python",
   "pygments_lexer": "ipython3",
   "version": "3.10.8"
  },
  "widgets": {
   "application/vnd.jupyter.widget-state+json": {
    "state": {},
    "version_major": 2,
    "version_minor": 0
   }
  }
 },
 "nbformat": 4,
 "nbformat_minor": 5
}
